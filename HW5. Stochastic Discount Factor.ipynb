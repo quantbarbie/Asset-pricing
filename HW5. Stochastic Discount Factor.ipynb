{
 "cells": [
  {
   "cell_type": "markdown",
   "metadata": {},
   "source": [
    "## Stochastic Discount Factor ##"
   ]
  },
  {
   "cell_type": "markdown",
   "metadata": {},
   "source": [
    ">Suppose that consumption growth has lognormal distribution with the possibility of rare disasters:\n",
    "\n",
    ">Here ε is a standard normal random variable, while ν is an independent random variable that has value of either zero (with probability of 98.3%) or ln(0.65) (with probability of 1.7%).\n",
    "Simulate ε with (at least) 100,000 random draws from standard normal distribution, and simulate ν with (at least) 100,000 random draws from standard uniform distribution.\n",
    "Use the simulated distribution of consumption growth to find the simulated distribution of the pricing kernel for power utility:\n",
    "\n"
   ]
  },
  {
   "cell_type": "code",
   "execution_count": 1,
   "metadata": {},
   "outputs": [],
   "source": [
    "import pandas as pd;\n",
    "import numpy as np;\n",
    "import statsmodels.api as sm;\n",
    "import statsmodels.stats.api as sms;\n",
    "import statsmodels.discrete.discrete_model as smdiscrete\n",
    "import functools as ft\n",
    "import matplotlib.pyplot as plt"
   ]
  },
  {
   "cell_type": "code",
   "execution_count": 2,
   "metadata": {},
   "outputs": [
    {
     "data": {
      "text/html": [
       "<div>\n",
       "<style scoped>\n",
       "    .dataframe tbody tr th:only-of-type {\n",
       "        vertical-align: middle;\n",
       "    }\n",
       "\n",
       "    .dataframe tbody tr th {\n",
       "        vertical-align: top;\n",
       "    }\n",
       "\n",
       "    .dataframe thead th {\n",
       "        text-align: right;\n",
       "    }\n",
       "</style>\n",
       "<table border=\"1\" class=\"dataframe\">\n",
       "  <thead>\n",
       "    <tr style=\"text-align: right;\">\n",
       "      <th></th>\n",
       "      <th>Epsilon</th>\n",
       "      <th>Nu</th>\n",
       "      <th>Consumption Growth</th>\n",
       "    </tr>\n",
       "  </thead>\n",
       "  <tbody>\n",
       "    <tr>\n",
       "      <th>0</th>\n",
       "      <td>0.129953</td>\n",
       "      <td>0.0</td>\n",
       "      <td>1.022856</td>\n",
       "    </tr>\n",
       "    <tr>\n",
       "      <th>1</th>\n",
       "      <td>-0.128113</td>\n",
       "      <td>0.0</td>\n",
       "      <td>1.017591</td>\n",
       "    </tr>\n",
       "    <tr>\n",
       "      <th>2</th>\n",
       "      <td>-0.158469</td>\n",
       "      <td>0.0</td>\n",
       "      <td>1.016973</td>\n",
       "    </tr>\n",
       "    <tr>\n",
       "      <th>3</th>\n",
       "      <td>-0.953343</td>\n",
       "      <td>0.0</td>\n",
       "      <td>1.000934</td>\n",
       "    </tr>\n",
       "    <tr>\n",
       "      <th>4</th>\n",
       "      <td>-0.487305</td>\n",
       "      <td>0.0</td>\n",
       "      <td>1.010307</td>\n",
       "    </tr>\n",
       "    <tr>\n",
       "      <th>...</th>\n",
       "      <td>...</td>\n",
       "      <td>...</td>\n",
       "      <td>...</td>\n",
       "    </tr>\n",
       "    <tr>\n",
       "      <th>99995</th>\n",
       "      <td>1.101857</td>\n",
       "      <td>0.0</td>\n",
       "      <td>1.042933</td>\n",
       "    </tr>\n",
       "    <tr>\n",
       "      <th>99996</th>\n",
       "      <td>0.631460</td>\n",
       "      <td>0.0</td>\n",
       "      <td>1.033167</td>\n",
       "    </tr>\n",
       "    <tr>\n",
       "      <th>99997</th>\n",
       "      <td>-0.124966</td>\n",
       "      <td>0.0</td>\n",
       "      <td>1.017655</td>\n",
       "    </tr>\n",
       "    <tr>\n",
       "      <th>99998</th>\n",
       "      <td>-0.517775</td>\n",
       "      <td>0.0</td>\n",
       "      <td>1.009691</td>\n",
       "    </tr>\n",
       "    <tr>\n",
       "      <th>99999</th>\n",
       "      <td>1.080796</td>\n",
       "      <td>0.0</td>\n",
       "      <td>1.042494</td>\n",
       "    </tr>\n",
       "  </tbody>\n",
       "</table>\n",
       "<p>100000 rows × 3 columns</p>\n",
       "</div>"
      ],
      "text/plain": [
       "        Epsilon   Nu  Consumption Growth\n",
       "0      0.129953  0.0            1.022856\n",
       "1     -0.128113  0.0            1.017591\n",
       "2     -0.158469  0.0            1.016973\n",
       "3     -0.953343  0.0            1.000934\n",
       "4     -0.487305  0.0            1.010307\n",
       "...         ...  ...                 ...\n",
       "99995  1.101857  0.0            1.042933\n",
       "99996  0.631460  0.0            1.033167\n",
       "99997 -0.124966  0.0            1.017655\n",
       "99998 -0.517775  0.0            1.009691\n",
       "99999  1.080796  0.0            1.042494\n",
       "\n",
       "[100000 rows x 3 columns]"
      ]
     },
     "execution_count": 2,
     "metadata": {},
     "output_type": "execute_result"
    }
   ],
   "source": [
    "# Number of random draws\n",
    "num_draws = 100000\n",
    "rng = np.random.default_rng(20231011)\n",
    "\n",
    "# Simulate ε from a standard normal distribution\n",
    "epsilon = rng.standard_normal(size = num_draws)\n",
    "\n",
    "# Simulate ν with the given probabilities\n",
    "probability = rng.uniform(size= num_draws)\n",
    "nu = np.where(probability <= 0.017, np.log(0.65),0)\n",
    "\n",
    "# Calculate consumption growth\n",
    "consumption_growth = np.exp(0.02 + 0.02 * epsilon + nu)\n",
    "\n",
    "# Create a DataFrame\n",
    "consumption_growth_df = pd.DataFrame({'Epsilon': epsilon, 'Nu': nu, 'Consumption Growth': consumption_growth})\n",
    "consumption_growth_df\n",
    "\n"
   ]
  },
  {
   "cell_type": "markdown",
   "metadata": {},
   "source": [
    ">Repeat this process for values of γ in the range from 1 to 4, in increments of 0.1 (or less). (Note that you can reuse the same simulated distribution of consumption growth for all values of γ). \n",
    "\n",
    ">Calculate μM and σM for each value of γ, and plot σM/μM (on the vertical axis) vs γ (on the horizontal axis)."
   ]
  },
  {
   "cell_type": "code",
   "execution_count": 5,
   "metadata": {},
   "outputs": [
    {
     "name": "stderr",
     "output_type": "stream",
     "text": [
      "/Users/sunshinehuang/Library/Python/3.9/lib/python/site-packages/matplotlib/text.py:757: FutureWarning: Calling float on a single element Series is deprecated and will raise a TypeError in the future. Use float(ser.iloc[0]) instead\n",
      "  posx = float(self.convert_xunits(self._x))\n",
      "/Users/sunshinehuang/Library/Python/3.9/lib/python/site-packages/matplotlib/text.py:758: FutureWarning: Calling float on a single element Series is deprecated and will raise a TypeError in the future. Use float(ser.iloc[0]) instead\n",
      "  posy = float(self.convert_yunits(self._y))\n",
      "/Users/sunshinehuang/Library/Python/3.9/lib/python/site-packages/matplotlib/text.py:897: FutureWarning: Calling float on a single element Series is deprecated and will raise a TypeError in the future. Use float(ser.iloc[0]) instead\n",
      "  x = float(self.convert_xunits(self._x))\n",
      "/Users/sunshinehuang/Library/Python/3.9/lib/python/site-packages/matplotlib/text.py:898: FutureWarning: Calling float on a single element Series is deprecated and will raise a TypeError in the future. Use float(ser.iloc[0]) instead\n",
      "  y = float(self.convert_yunits(self._y))\n"
     ]
    },
    {
     "data": {
      "image/png": "[encoded data removed]",
      "text/plain": [
       "<Figure size 640x480 with 1 Axes>"
      ]
     },
     "metadata": {},
     "output_type": "display_data"
    }
   ],
   "source": [
    "# Simulated consumption growth data (use the previously generated data)\n",
    "consumption_growth = consumption_growth_df['Consumption Growth']\n",
    "\n",
    "# Define the range of γ values\n",
    "gamma_values = np.arange(1, 4.1, 0.01)\n",
    "discount_factor = 0.99\n",
    "\n",
    "# Initialize lists to store μM and σM for each γ\n",
    "mu_M_list = []\n",
    "sigma_M_list = []\n",
    "\n",
    "# Calculate μM and σM for each value of γ\n",
    "for gamma in gamma_values:\n",
    "    pricing_kernel = 0.99 * consumption_growth**(-gamma)\n",
    "    mu_M = np.mean(pricing_kernel)\n",
    "    sigma_M = np.std(pricing_kernel)\n",
    "    mu_M_list.append(mu_M)\n",
    "    sigma_M_list.append(sigma_M)\n",
    "\n",
    "# Calculate σM/μM for each γ\n",
    "sigma_over_mu = np.array(sigma_M_list) / np.array(mu_M_list)\n",
    "\n",
    "# Create a DataFrame to store the results\n",
    "results = pd.DataFrame({'Gamma': gamma_values, 'Mu_M': mu_M_list, 'Sigma_M': sigma_M_list, 'Sigma_over_Mu': sigma_over_mu})\n",
    "plt.plot(gamma_values, sigma_over_mu, marker='o', linestyle='-.', color='orange')\n",
    "\n",
    "plt.scatter(smallest_gamma[\"Gamma\"],\n",
    "         smallest_gamma[\"Sigma_over_Mu\"],\n",
    "            c = \"green\",\n",
    "           )\n",
    "\n",
    "plt.text(smallest_gamma[\"Gamma\"] + 0.05,\n",
    "      smallest_gamma[\"Sigma_over_Mu\"] - 0.02,\n",
    "         f\"Gamma: {smallest_gamma['Gamma'].values[0]:.2f}\")\n",
    "\n",
    "y_ticks = np.arange(0.00, 0.62, 0.05)\n",
    "plt.yticks(y_ticks)\n",
    "plt.xlabel('Gamma (γ)/ Level of (relative) risk aversion ')\n",
    "plt.ylabel('σM/μM / / Sharpe Ratio ')\n",
    "plt.title('σM/μM(Sharpe Ratio) vs. γ Level of (relative) risk aversion')\n",
    "plt.xlim(left=0)\n",
    "plt.grid(axis='y', linestyle='-.', which='major')\n",
    "plt.show()"
   ]
  },
  {
   "cell_type": "code",
   "execution_count": 4,
   "metadata": {},
   "outputs": [
    {
     "data": {
      "text/html": [
       "<div>\n",
       "<style scoped>\n",
       "    .dataframe tbody tr th:only-of-type {\n",
       "        vertical-align: middle;\n",
       "    }\n",
       "\n",
       "    .dataframe tbody tr th {\n",
       "        vertical-align: top;\n",
       "    }\n",
       "\n",
       "    .dataframe thead th {\n",
       "        text-align: right;\n",
       "    }\n",
       "</style>\n",
       "<table border=\"1\" class=\"dataframe\">\n",
       "  <thead>\n",
       "    <tr style=\"text-align: right;\">\n",
       "      <th></th>\n",
       "      <th>Gamma</th>\n",
       "      <th>Mu_M</th>\n",
       "      <th>Sigma_M</th>\n",
       "      <th>Sigma_over_Mu</th>\n",
       "    </tr>\n",
       "  </thead>\n",
       "  <tbody>\n",
       "    <tr>\n",
       "      <th>235</th>\n",
       "      <td>3.35</td>\n",
       "      <td>0.978823</td>\n",
       "      <td>0.393093</td>\n",
       "      <td>0.401597</td>\n",
       "    </tr>\n",
       "  </tbody>\n",
       "</table>\n",
       "</div>"
      ],
      "text/plain": [
       "     Gamma      Mu_M   Sigma_M  Sigma_over_Mu\n",
       "235   3.35  0.978823  0.393093       0.401597"
      ]
     },
     "execution_count": 4,
     "metadata": {},
     "output_type": "execute_result"
    }
   ],
   "source": [
    "# Find the smallest value of γ for which σM/μM > 0.4\n",
    "smallest_gamma = results[results['Sigma_over_Mu'] > 0.4].iloc[[0]]\n",
    "smallest_gamma"
   ]
  },
  {
   "cell_type": "markdown",
   "metadata": {},
   "source": [
    "> The smallest γ with σM/μM > 0.4 is 3.35"
   ]
  },
  {
   "cell_type": "markdown",
   "metadata": {},
   "source": [
    "> Explain (in words, without using any mathematical  equations or formulas) the economic significance of this result."
   ]
  },
  {
   "cell_type": "markdown",
   "metadata": {},
   "source": [
    "\n",
    "The smallest value of γ for which σM/μM > 0.4 at 3.35 meant that the results is within the H-J bound, there is no equity premium puzzle since gamma being 3.35 represents a reasonable degree of relative risk aversion. In an attempt to factor in the possibility of rare disasters, volatility is greatly increased which results in extreme left skewness of consumption growth graph, and this can be done via the small increase of gamma value to match the left skewness of consumption graph.\n",
    "\n",
    "Investors are very risk-averse and would be willing to pay a premium to avoid risk and have a better guarantee in returns."
   ]
  },
  {
   "cell_type": "markdown",
   "metadata": {},
   "source": []
  }
 ],
 "metadata": {
  "kernelspec": {
   "display_name": "Python 3 (ipykernel)",
   "language": "python",
   "name": "python3"
  },
  "language_info": {
   "codemirror_mode": {
    "name": "ipython",
    "version": 3
   },
   "file_extension": ".py",
   "mimetype": "text/x-python",
   "name": "python",
   "nbconvert_exporter": "python",
   "pygments_lexer": "ipython3",
   "version": "3.11.4"
  }
 },
 "nbformat": 4,
 "nbformat_minor": 2
}
