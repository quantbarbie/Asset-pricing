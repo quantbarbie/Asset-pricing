{
 "cells": [
  {
   "cell_type": "code",
   "execution_count": 25,
   "id": "d7fc4856",
   "metadata": {},
   "outputs": [],
   "source": [
    "import numpy as np\n",
    "import pandas as pd\n",
    "import matplotlib.pyplot as plt\n",
    "import functools as ft\n",
    "import statsmodels.api as sm\n",
    "import scipi as sc\n",
    "import statsmodels.stats.api as sms;\n",
    "import statsmodels.discrete.discrete_model as smdiscrete"
   ]
  },
  {
   "cell_type": "code",
   "execution_count": 17,
   "id": "537af049",
   "metadata": {
    "scrolled": true
   },
   "outputs": [],
   "source": [
    "portf=pd.read_excel('Industry_Portfolios.xlsx')\n",
    "# portf.set_index(['Date'])"
   ]
  },
  {
   "cell_type": "code",
   "execution_count": 19,
   "id": "a8a86099",
   "metadata": {},
   "outputs": [
    {
     "data": {
      "text/html": [
       "<div>\n",
       "<style scoped>\n",
       "    .dataframe tbody tr th:only-of-type {\n",
       "        vertical-align: middle;\n",
       "    }\n",
       "\n",
       "    .dataframe tbody tr th {\n",
       "        vertical-align: top;\n",
       "    }\n",
       "\n",
       "    .dataframe thead th {\n",
       "        text-align: right;\n",
       "    }\n",
       "</style>\n",
       "<table border=\"1\" class=\"dataframe\">\n",
       "  <thead>\n",
       "    <tr style=\"text-align: right;\">\n",
       "      <th></th>\n",
       "      <th>Industry</th>\n",
       "      <th>α</th>\n",
       "      <th>β</th>\n",
       "    </tr>\n",
       "  </thead>\n",
       "  <tbody>\n",
       "    <tr>\n",
       "      <th>0</th>\n",
       "      <td>NoDur</td>\n",
       "      <td>0.414599</td>\n",
       "      <td>0.652647</td>\n",
       "    </tr>\n",
       "    <tr>\n",
       "      <th>1</th>\n",
       "      <td>Durbl</td>\n",
       "      <td>-0.499909</td>\n",
       "      <td>1.648536</td>\n",
       "    </tr>\n",
       "    <tr>\n",
       "      <th>2</th>\n",
       "      <td>Manuf</td>\n",
       "      <td>0.137691</td>\n",
       "      <td>1.169846</td>\n",
       "    </tr>\n",
       "    <tr>\n",
       "      <th>3</th>\n",
       "      <td>Enrgy</td>\n",
       "      <td>0.505638</td>\n",
       "      <td>0.969850</td>\n",
       "    </tr>\n",
       "    <tr>\n",
       "      <th>4</th>\n",
       "      <td>HiTec</td>\n",
       "      <td>-0.081306</td>\n",
       "      <td>1.132969</td>\n",
       "    </tr>\n",
       "    <tr>\n",
       "      <th>5</th>\n",
       "      <td>Telcm</td>\n",
       "      <td>0.207596</td>\n",
       "      <td>0.900729</td>\n",
       "    </tr>\n",
       "    <tr>\n",
       "      <th>6</th>\n",
       "      <td>Shops</td>\n",
       "      <td>0.298048</td>\n",
       "      <td>0.826492</td>\n",
       "    </tr>\n",
       "    <tr>\n",
       "      <th>7</th>\n",
       "      <td>Hlth</td>\n",
       "      <td>0.280347</td>\n",
       "      <td>0.673036</td>\n",
       "    </tr>\n",
       "    <tr>\n",
       "      <th>8</th>\n",
       "      <td>Utils</td>\n",
       "      <td>0.504633</td>\n",
       "      <td>0.538086</td>\n",
       "    </tr>\n",
       "    <tr>\n",
       "      <th>9</th>\n",
       "      <td>Other</td>\n",
       "      <td>-0.414085</td>\n",
       "      <td>1.207309</td>\n",
       "    </tr>\n",
       "  </tbody>\n",
       "</table>\n",
       "</div>"
      ],
      "text/plain": [
       "  Industry         α         β\n",
       "0    NoDur  0.414599  0.652647\n",
       "1    Durbl -0.499909  1.648536\n",
       "2    Manuf  0.137691  1.169846\n",
       "3    Enrgy  0.505638  0.969850\n",
       "4    HiTec -0.081306  1.132969\n",
       "5    Telcm  0.207596  0.900729\n",
       "6    Shops  0.298048  0.826492\n",
       "7     Hlth  0.280347  0.673036\n",
       "8    Utils  0.504633  0.538086\n",
       "9    Other -0.414085  1.207309"
      ]
     },
     "execution_count": 19,
     "metadata": {},
     "output_type": "execute_result"
    }
   ],
   "source": [
    "# Estimate the intercept coefficient (α) and slope coefficient (β) for each of the ten industry portfolio \n",
    "# using the market model: regress the monthly excess returns for each industry portfolio \n",
    "# on the monthly excess returns for the market portfolio.\n",
    "\n",
    "# 1. 'industry_portfolio' with monthly excess returns for each industry portfolio\n",
    "# 2. 'market_portfolio' with monthly excess returns for the market portfolio\n",
    "# for market portfolio beta is equal to 1 so only need alpha \n",
    "\n",
    "# Create a list to store the results for each industry\n",
    "results = []\n",
    "\n",
    "# Loop through each industry portfolio and perform linear regression\n",
    "for industry in portf.columns[1:-1]:  # Exclude the 'Market' column\n",
    "    Y = portf[industry]  # Excess returns for the industry portfolio\n",
    "    X = portf['Market']  # Excess returns for the market portfolio\n",
    "    X = sm.add_constant(X)  # Add a constant term for the intercept (α)\n",
    "\n",
    "    # Fit the linear regression model\n",
    "    model = sm.OLS(Y, X).fit()\n",
    "\n",
    "    # Extract the intercept (α) and slope coefficient (β)\n",
    "    alpha = model.params['const']\n",
    "    beta = model.params['Market']\n",
    "\n",
    "    # Append the results to the list\n",
    "    results.append({'Industry': industry, 'α': alpha, 'β': beta})\n",
    "\n",
    "# Create a DataFrame to display the results\n",
    "results_df = pd.DataFrame(results)\n",
    "\n",
    "# Print the results\n",
    "results_df"
   ]
  },
  {
   "cell_type": "markdown",
   "id": "95beebd9",
   "metadata": {},
   "source": [
    "In CAPM model the alpha coefficient represents the pricing error (ideally it should be 0). Positive alpha means that assets have overperformed compared to the model prediction, which is the case of portfolios 0, 2, 3, 5, 6, 7, 8. Negative alpha, on the other hand, means that CAPM forecasted a better performance (portfolios 1, 4, 9)\n",
    "Beta coefficient determines the slope and represents the exposure towards systematic risk. For the market, the beta is 1. Beta more that 1 means high volatility and more riskiness (portfolios 1, 2, 4, 9), while beta less than 1 (so less than systematic risk for the marker as a whole) means less volatility, less 'sensitivity' for market changes (portfolios 0, 3, 5, 6, 7, 8)\n",
    "\n",
    "Portfolio Manuf had the least pricing error (alpha=0.14), while portfolios NoDur and Utils seem to be more balanced - they have a low pricing error and at the same time are least exposed to market risk (a=0.41, b=0.65 and a=0.5, b=0.53 respectively) "
   ]
  },
  {
   "cell_type": "code",
   "execution_count": 33,
   "id": "df68e66f",
   "metadata": {},
   "outputs": [
    {
     "data": {
      "text/html": [
       "<div>\n",
       "<style scoped>\n",
       "    .dataframe tbody tr th:only-of-type {\n",
       "        vertical-align: middle;\n",
       "    }\n",
       "\n",
       "    .dataframe tbody tr th {\n",
       "        vertical-align: top;\n",
       "    }\n",
       "\n",
       "    .dataframe thead th {\n",
       "        text-align: right;\n",
       "    }\n",
       "</style>\n",
       "<table border=\"1\" class=\"dataframe\">\n",
       "  <thead>\n",
       "    <tr style=\"text-align: right;\">\n",
       "      <th></th>\n",
       "      <th>mean</th>\n",
       "    </tr>\n",
       "  </thead>\n",
       "  <tbody>\n",
       "    <tr>\n",
       "      <th>Date</th>\n",
       "      <td>200856.500000</td>\n",
       "    </tr>\n",
       "    <tr>\n",
       "      <th>NoDur</th>\n",
       "      <td>0.902833</td>\n",
       "    </tr>\n",
       "    <tr>\n",
       "      <th>Durbl</th>\n",
       "      <td>0.733333</td>\n",
       "    </tr>\n",
       "    <tr>\n",
       "      <th>Manuf</th>\n",
       "      <td>1.012833</td>\n",
       "    </tr>\n",
       "    <tr>\n",
       "      <th>Enrgy</th>\n",
       "      <td>1.231167</td>\n",
       "    </tr>\n",
       "    <tr>\n",
       "      <th>HiTec</th>\n",
       "      <td>0.766250</td>\n",
       "    </tr>\n",
       "    <tr>\n",
       "      <th>Telcm</th>\n",
       "      <td>0.881417</td>\n",
       "    </tr>\n",
       "    <tr>\n",
       "      <th>Shops</th>\n",
       "      <td>0.916333</td>\n",
       "    </tr>\n",
       "    <tr>\n",
       "      <th>Hlth</th>\n",
       "      <td>0.783833</td>\n",
       "    </tr>\n",
       "    <tr>\n",
       "      <th>Utils</th>\n",
       "      <td>0.907167</td>\n",
       "    </tr>\n",
       "    <tr>\n",
       "      <th>Other</th>\n",
       "      <td>0.489083</td>\n",
       "    </tr>\n",
       "    <tr>\n",
       "      <th>Market</th>\n",
       "      <td>0.748083</td>\n",
       "    </tr>\n",
       "  </tbody>\n",
       "</table>\n",
       "</div>"
      ],
      "text/plain": [
       "                 mean\n",
       "Date    200856.500000\n",
       "NoDur        0.902833\n",
       "Durbl        0.733333\n",
       "Manuf        1.012833\n",
       "Enrgy        1.231167\n",
       "HiTec        0.766250\n",
       "Telcm        0.881417\n",
       "Shops        0.916333\n",
       "Hlth         0.783833\n",
       "Utils        0.907167\n",
       "Other        0.489083\n",
       "Market       0.748083"
      ]
     },
     "execution_count": 33,
     "metadata": {},
     "output_type": "execute_result"
    }
   ],
   "source": [
    "# create sml\n",
    "\n",
    "portf_m=pd.read_excel('Industry_Portfolios.xlsx')\n",
    "portf_m.drop(columns=['Date'])\n",
    "mean_returns = portf_m.agg([\"mean\"])\n",
    "mean_returns.T"
   ]
  },
  {
   "cell_type": "code",
   "execution_count": 36,
   "id": "2cdb6dfb",
   "metadata": {},
   "outputs": [
    {
     "name": "stdout",
     "output_type": "stream",
     "text": [
      "Y-intercept(Rfr): 1.0327684005099753\n",
      "Slope coefficient (Treynor): -0.1854676436036875\n"
     ]
    }
   ],
   "source": [
    "# Create arrays for mean monthly returns and beta\n",
    "mean_returns = np.array([0.902833,0.733333,1.012833,1.231167,0.76625,0.881417,0.916333,0.783833,0.907167,0.489083,0.748083])\n",
    "betas = np.array([0.652647,1.648536,1.169846,0.96985,1.132969,0.900729,0.826492,0.673036,0.538086,1.207309,1])\n",
    "\n",
    "# Add a constant term for the intercept\n",
    "betas_with_intercept = sm.add_constant(betas)\n",
    "\n",
    "# Fit the linear regression model\n",
    "model = sm.OLS(mean_returns, betas_with_intercept).fit()\n",
    "\n",
    "# Get the regression coefficients\n",
    "intercept, slope = model.params\n",
    "\n",
    "# Print the intercept and slope coefficients\n",
    "print(\"Y-intercept(Rfr):\", intercept)\n",
    "print(\"Slope coefficient (Treynor):\", slope)"
   ]
  },
  {
   "cell_type": "code",
   "execution_count": 37,
   "id": "aaeabf2d",
   "metadata": {},
   "outputs": [
    {
     "name": "stdout",
     "output_type": "stream",
     "text": [
      "SML Expected Return for beta = 2: 0.6618331133026001\n"
     ]
    }
   ],
   "source": [
    "def calculate_expected_return(beta, risk_free_rate, market_return):\n",
    "    expected_return = risk_free_rate + asset_beta * (-0.1854676436036876) # add rfr to asset risk times treynor to get exp r\n",
    "    return expected_return\n",
    "\n",
    "risk_free_rate = 1.0327684005099753  # risk-free rate\n",
    "market_return = 0.748083  # actual market return\n",
    "asset_beta = 2  # beta of the asset or portfolio we need to plot the sml\n",
    "\n",
    "\n",
    "expected_return = calculate_expected_return(asset_beta, risk_free_rate, market_return)\n",
    "print(\"SML Expected Return for beta = 2:\", expected_return)"
   ]
  },
  {
   "cell_type": "code",
   "execution_count": 40,
   "id": "1b3115f6",
   "metadata": {},
   "outputs": [
    {
     "data": {
      "image/png": "[encoded data removed]",
      "text/plain": [
       "<Figure size 640x480 with 1 Axes>"
      ]
     },
     "metadata": {},
     "output_type": "display_data"
    }
   ],
   "source": [
    "x = np.array([0.652647,1.648536,1.169846,0.96985,1.132969,0.900729,0.826492,0.673036,0.538086,1.207309,1])  # betas\n",
    "y_scatter = np.array([0.902833,0.733333,1.012833,1.231167,0.76625,0.881417,0.916333,0.783833,0.907167,0.489083,0.748083])\n",
    "# mean returns\n",
    "xx = np.array([0,1,2]) #sample x we need to plot\n",
    "\n",
    "# Example data for the straight line (example: y = 1.5x + 2)\n",
    "y_line = -0.1854676436036876 * xx + 1.0327684005099753\n",
    "\n",
    "# Create a scatter plot for the points\n",
    "plt.scatter(x, y_scatter, label='Positions of Industry portfolios & Market portfolio', color='magenta', marker='o')\n",
    "\n",
    "# Create the straight line plot\n",
    "plt.plot(xx, y_line, label='SML', color='pink')\n",
    "\n",
    "# Add labels, legend, and title\n",
    "plt.xlabel('Beta')\n",
    "plt.ylabel('Expected Returns')\n",
    "plt.legend(loc='upper left', bbox_to_anchor=(1, 1))\n",
    "plt.title('SML graph')\n",
    "\n",
    "# Show the plot\n",
    "plt.grid(False)\n",
    "plt.xlim(0)\n",
    "plt.show()"
   ]
  },
  {
   "cell_type": "markdown",
   "id": "5ffb7fe2",
   "metadata": {},
   "source": [
    "The security market line, SML is a line that is a graphical representation of CAPM. It can help to determine whether an assets offers a good return on the risk level it has. Normally, it has a positive slope coefficient (which is not our case...) in this case SML slope means that there is a negative correlation between risk and returns - the higher the risk, the less the expected return.\n",
    "\n",
    "In terms of portfolio position, those who lay above the SML are considered to be underpriced (there is a high demand on them, which causes their expected return drop down back to SML), and vice versa."
   ]
  }
 ],
 "metadata": {
  "celltoolbar": "Необработанный формат ячейки",
  "kernelspec": {
   "display_name": "Python 3 (ipykernel)",
   "language": "python",
   "name": "python3"
  },
  "language_info": {
   "codemirror_mode": {
    "name": "ipython",
    "version": 3
   },
   "file_extension": ".py",
   "mimetype": "text/x-python",
   "name": "python",
   "nbconvert_exporter": "python",
   "pygments_lexer": "ipython3",
   "version": "3.11.4"
  }
 },
 "nbformat": 4,
 "nbformat_minor": 5
}
